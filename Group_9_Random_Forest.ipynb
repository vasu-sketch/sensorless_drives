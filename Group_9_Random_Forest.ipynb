{
 "cells": [
  {
   "cell_type": "code",
   "execution_count": 1,
   "id": "bafc7754",
   "metadata": {},
   "outputs": [],
   "source": [
    "import pandas as pd\n",
    "import numpy as np\n",
    "from sklearn.ensemble import RandomForestClassifier\n",
    "from sklearn.metrics import accuracy_score, confusion_matrix, classification_report, f1_score, roc_auc_score, recall_score\n",
    "from sklearn.model_selection import GridSearchCV, train_test_split\n",
    "import pickle"
   ]
  },
  {
   "cell_type": "code",
   "execution_count": 2,
   "id": "3afb1442",
   "metadata": {},
   "outputs": [
    {
     "data": {
      "text/html": [
       "<div>\n",
       "<style scoped>\n",
       "    .dataframe tbody tr th:only-of-type {\n",
       "        vertical-align: middle;\n",
       "    }\n",
       "\n",
       "    .dataframe tbody tr th {\n",
       "        vertical-align: top;\n",
       "    }\n",
       "\n",
       "    .dataframe thead th {\n",
       "        text-align: right;\n",
       "    }\n",
       "</style>\n",
       "<table border=\"1\" class=\"dataframe\">\n",
       "  <thead>\n",
       "    <tr style=\"text-align: right;\">\n",
       "      <th></th>\n",
       "      <th>current_1</th>\n",
       "      <th>current_2</th>\n",
       "      <th>current_3</th>\n",
       "      <th>current_4</th>\n",
       "      <th>current_5</th>\n",
       "      <th>current_6</th>\n",
       "      <th>current_7</th>\n",
       "      <th>current_8</th>\n",
       "      <th>current_9</th>\n",
       "      <th>current_10</th>\n",
       "      <th>...</th>\n",
       "      <th>current_40</th>\n",
       "      <th>current_41</th>\n",
       "      <th>current_42</th>\n",
       "      <th>current_43</th>\n",
       "      <th>current_44</th>\n",
       "      <th>current_45</th>\n",
       "      <th>current_46</th>\n",
       "      <th>current_47</th>\n",
       "      <th>current_48</th>\n",
       "      <th>output</th>\n",
       "    </tr>\n",
       "  </thead>\n",
       "  <tbody>\n",
       "    <tr>\n",
       "      <th>0</th>\n",
       "      <td>-3.014600e-07</td>\n",
       "      <td>8.260300e-06</td>\n",
       "      <td>-0.000012</td>\n",
       "      <td>-0.000002</td>\n",
       "      <td>-1.438600e-06</td>\n",
       "      <td>-0.000021</td>\n",
       "      <td>0.031718</td>\n",
       "      <td>0.031710</td>\n",
       "      <td>0.031721</td>\n",
       "      <td>-0.032963</td>\n",
       "      <td>...</td>\n",
       "      <td>-0.63308</td>\n",
       "      <td>2.9646</td>\n",
       "      <td>8.1198</td>\n",
       "      <td>-1.4961</td>\n",
       "      <td>-1.4961</td>\n",
       "      <td>-1.4961</td>\n",
       "      <td>-1.4996</td>\n",
       "      <td>-1.4996</td>\n",
       "      <td>-1.4996</td>\n",
       "      <td>1</td>\n",
       "    </tr>\n",
       "    <tr>\n",
       "      <th>1</th>\n",
       "      <td>2.913200e-06</td>\n",
       "      <td>-5.247700e-06</td>\n",
       "      <td>0.000003</td>\n",
       "      <td>-0.000006</td>\n",
       "      <td>2.778900e-06</td>\n",
       "      <td>-0.000004</td>\n",
       "      <td>0.030804</td>\n",
       "      <td>0.030810</td>\n",
       "      <td>0.030806</td>\n",
       "      <td>-0.033520</td>\n",
       "      <td>...</td>\n",
       "      <td>-0.59314</td>\n",
       "      <td>7.6252</td>\n",
       "      <td>6.1690</td>\n",
       "      <td>-1.4967</td>\n",
       "      <td>-1.4967</td>\n",
       "      <td>-1.4967</td>\n",
       "      <td>-1.5005</td>\n",
       "      <td>-1.5005</td>\n",
       "      <td>-1.5005</td>\n",
       "      <td>1</td>\n",
       "    </tr>\n",
       "    <tr>\n",
       "      <th>2</th>\n",
       "      <td>-2.951700e-06</td>\n",
       "      <td>-3.184000e-06</td>\n",
       "      <td>-0.000016</td>\n",
       "      <td>-0.000001</td>\n",
       "      <td>-1.575300e-06</td>\n",
       "      <td>0.000017</td>\n",
       "      <td>0.032877</td>\n",
       "      <td>0.032880</td>\n",
       "      <td>0.032896</td>\n",
       "      <td>-0.029834</td>\n",
       "      <td>...</td>\n",
       "      <td>-0.63252</td>\n",
       "      <td>2.7784</td>\n",
       "      <td>5.3017</td>\n",
       "      <td>-1.4983</td>\n",
       "      <td>-1.4983</td>\n",
       "      <td>-1.4982</td>\n",
       "      <td>-1.4985</td>\n",
       "      <td>-1.4985</td>\n",
       "      <td>-1.4985</td>\n",
       "      <td>1</td>\n",
       "    </tr>\n",
       "    <tr>\n",
       "      <th>3</th>\n",
       "      <td>-1.322600e-06</td>\n",
       "      <td>8.820100e-06</td>\n",
       "      <td>-0.000016</td>\n",
       "      <td>-0.000005</td>\n",
       "      <td>-7.282900e-07</td>\n",
       "      <td>0.000004</td>\n",
       "      <td>0.029410</td>\n",
       "      <td>0.029401</td>\n",
       "      <td>0.029417</td>\n",
       "      <td>-0.030156</td>\n",
       "      <td>...</td>\n",
       "      <td>-0.62289</td>\n",
       "      <td>6.5534</td>\n",
       "      <td>6.2606</td>\n",
       "      <td>-1.4963</td>\n",
       "      <td>-1.4963</td>\n",
       "      <td>-1.4963</td>\n",
       "      <td>-1.4975</td>\n",
       "      <td>-1.4975</td>\n",
       "      <td>-1.4976</td>\n",
       "      <td>1</td>\n",
       "    </tr>\n",
       "    <tr>\n",
       "      <th>4</th>\n",
       "      <td>-6.836600e-08</td>\n",
       "      <td>5.666300e-07</td>\n",
       "      <td>-0.000026</td>\n",
       "      <td>-0.000006</td>\n",
       "      <td>-7.940600e-07</td>\n",
       "      <td>0.000013</td>\n",
       "      <td>0.030119</td>\n",
       "      <td>0.030119</td>\n",
       "      <td>0.030145</td>\n",
       "      <td>-0.031393</td>\n",
       "      <td>...</td>\n",
       "      <td>-0.63010</td>\n",
       "      <td>4.5155</td>\n",
       "      <td>9.5231</td>\n",
       "      <td>-1.4958</td>\n",
       "      <td>-1.4958</td>\n",
       "      <td>-1.4958</td>\n",
       "      <td>-1.4959</td>\n",
       "      <td>-1.4959</td>\n",
       "      <td>-1.4959</td>\n",
       "      <td>1</td>\n",
       "    </tr>\n",
       "  </tbody>\n",
       "</table>\n",
       "<p>5 rows × 49 columns</p>\n",
       "</div>"
      ],
      "text/plain": [
       "      current_1     current_2  current_3  current_4     current_5  current_6  \\\n",
       "0 -3.014600e-07  8.260300e-06  -0.000012  -0.000002 -1.438600e-06  -0.000021   \n",
       "1  2.913200e-06 -5.247700e-06   0.000003  -0.000006  2.778900e-06  -0.000004   \n",
       "2 -2.951700e-06 -3.184000e-06  -0.000016  -0.000001 -1.575300e-06   0.000017   \n",
       "3 -1.322600e-06  8.820100e-06  -0.000016  -0.000005 -7.282900e-07   0.000004   \n",
       "4 -6.836600e-08  5.666300e-07  -0.000026  -0.000006 -7.940600e-07   0.000013   \n",
       "\n",
       "   current_7  current_8  current_9  current_10  ...  current_40  current_41  \\\n",
       "0   0.031718   0.031710   0.031721   -0.032963  ...    -0.63308      2.9646   \n",
       "1   0.030804   0.030810   0.030806   -0.033520  ...    -0.59314      7.6252   \n",
       "2   0.032877   0.032880   0.032896   -0.029834  ...    -0.63252      2.7784   \n",
       "3   0.029410   0.029401   0.029417   -0.030156  ...    -0.62289      6.5534   \n",
       "4   0.030119   0.030119   0.030145   -0.031393  ...    -0.63010      4.5155   \n",
       "\n",
       "   current_42  current_43  current_44  current_45  current_46  current_47  \\\n",
       "0      8.1198     -1.4961     -1.4961     -1.4961     -1.4996     -1.4996   \n",
       "1      6.1690     -1.4967     -1.4967     -1.4967     -1.5005     -1.5005   \n",
       "2      5.3017     -1.4983     -1.4983     -1.4982     -1.4985     -1.4985   \n",
       "3      6.2606     -1.4963     -1.4963     -1.4963     -1.4975     -1.4975   \n",
       "4      9.5231     -1.4958     -1.4958     -1.4958     -1.4959     -1.4959   \n",
       "\n",
       "   current_48  output  \n",
       "0     -1.4996       1  \n",
       "1     -1.5005       1  \n",
       "2     -1.4985       1  \n",
       "3     -1.4976       1  \n",
       "4     -1.4959       1  \n",
       "\n",
       "[5 rows x 49 columns]"
      ]
     },
     "execution_count": 2,
     "metadata": {},
     "output_type": "execute_result"
    }
   ],
   "source": [
    "# Loading the data\n",
    "df = pd.read_csv('Group_9_data_cleaned.csv', index_col=0)\n",
    "df.head(5)"
   ]
  },
  {
   "cell_type": "code",
   "execution_count": 3,
   "id": "5e9e5bc8",
   "metadata": {},
   "outputs": [
    {
     "data": {
      "text/plain": [
       "Index(['current_1', 'current_2', 'current_3', 'current_4', 'current_5',\n",
       "       'current_6', 'current_7', 'current_8', 'current_9', 'current_10',\n",
       "       'current_11', 'current_12', 'current_13', 'current_14', 'current_15',\n",
       "       'current_16', 'current_17', 'current_18', 'current_19', 'current_20',\n",
       "       'current_21', 'current_22', 'current_23', 'current_24', 'current_25',\n",
       "       'current_26', 'current_27', 'current_28', 'current_29', 'current_30',\n",
       "       'current_31', 'current_32', 'current_33', 'current_34', 'current_35',\n",
       "       'current_36', 'current_37', 'current_38', 'current_39', 'current_40',\n",
       "       'current_41', 'current_42', 'current_43', 'current_44', 'current_45',\n",
       "       'current_46', 'current_47', 'current_48', 'output'],\n",
       "      dtype='object')"
      ]
     },
     "execution_count": 3,
     "metadata": {},
     "output_type": "execute_result"
    }
   ],
   "source": [
    "df.columns"
   ]
  },
  {
   "cell_type": "code",
   "execution_count": 4,
   "id": "a659fc32",
   "metadata": {},
   "outputs": [],
   "source": [
    "X = df.drop(['output'],axis=1)\n",
    "y = df['output']"
   ]
  },
  {
   "cell_type": "code",
   "execution_count": 5,
   "id": "00e5c9a0",
   "metadata": {},
   "outputs": [],
   "source": [
    "# dividing the dataset into train,test and validation sets\n",
    "X_train, X_rem, y_train, y_rem  = train_test_split(X, y, train_size = 0.5, random_state = 42)\n",
    "X_valid, X_test, y_valid, y_test = train_test_split(X_rem, y_rem, test_size = 0.5, random_state = 42)"
   ]
  },
  {
   "cell_type": "code",
   "execution_count": 6,
   "id": "09a23f4e",
   "metadata": {},
   "outputs": [
    {
     "name": "stdout",
     "output_type": "stream",
     "text": [
      " The input training  data shape is (29254, 48)\n",
      " The  output training data shape is (29254,)\n"
     ]
    }
   ],
   "source": [
    "# The shape of training dataset\n",
    "print(f\" The input training  data shape is {X_train.shape}\")\n",
    "print(f\" The  output training data shape is {y_train.shape}\")"
   ]
  },
  {
   "cell_type": "code",
   "execution_count": 7,
   "id": "c0b5ab79",
   "metadata": {},
   "outputs": [
    {
     "name": "stdout",
     "output_type": "stream",
     "text": [
      " The input training  data shape is (14627, 48)\n",
      " The  output training data shape is (14627,)\n"
     ]
    }
   ],
   "source": [
    "# The shape of validation dataset\n",
    "print(f\" The input training  data shape is {X_valid.shape}\")\n",
    "print(f\" The  output training data shape is {y_valid.shape}\")"
   ]
  },
  {
   "cell_type": "code",
   "execution_count": 8,
   "id": "8bf62677",
   "metadata": {},
   "outputs": [
    {
     "name": "stdout",
     "output_type": "stream",
     "text": [
      " The input training  data shape is (14627, 48)\n",
      " The  output training data shape is (14627,)\n"
     ]
    }
   ],
   "source": [
    "# The shape of the test dataset \n",
    "print(f\" The input training  data shape is {X_valid.shape}\")\n",
    "print(f\" The  output training data shape is {y_valid.shape}\")"
   ]
  },
  {
   "cell_type": "code",
   "execution_count": 9,
   "id": "725566b6",
   "metadata": {},
   "outputs": [
    {
     "data": {
      "text/html": [
       "<style>#sk-container-id-1 {color: black;background-color: white;}#sk-container-id-1 pre{padding: 0;}#sk-container-id-1 div.sk-toggleable {background-color: white;}#sk-container-id-1 label.sk-toggleable__label {cursor: pointer;display: block;width: 100%;margin-bottom: 0;padding: 0.3em;box-sizing: border-box;text-align: center;}#sk-container-id-1 label.sk-toggleable__label-arrow:before {content: \"▸\";float: left;margin-right: 0.25em;color: #696969;}#sk-container-id-1 label.sk-toggleable__label-arrow:hover:before {color: black;}#sk-container-id-1 div.sk-estimator:hover label.sk-toggleable__label-arrow:before {color: black;}#sk-container-id-1 div.sk-toggleable__content {max-height: 0;max-width: 0;overflow: hidden;text-align: left;background-color: #f0f8ff;}#sk-container-id-1 div.sk-toggleable__content pre {margin: 0.2em;color: black;border-radius: 0.25em;background-color: #f0f8ff;}#sk-container-id-1 input.sk-toggleable__control:checked~div.sk-toggleable__content {max-height: 200px;max-width: 100%;overflow: auto;}#sk-container-id-1 input.sk-toggleable__control:checked~label.sk-toggleable__label-arrow:before {content: \"▾\";}#sk-container-id-1 div.sk-estimator input.sk-toggleable__control:checked~label.sk-toggleable__label {background-color: #d4ebff;}#sk-container-id-1 div.sk-label input.sk-toggleable__control:checked~label.sk-toggleable__label {background-color: #d4ebff;}#sk-container-id-1 input.sk-hidden--visually {border: 0;clip: rect(1px 1px 1px 1px);clip: rect(1px, 1px, 1px, 1px);height: 1px;margin: -1px;overflow: hidden;padding: 0;position: absolute;width: 1px;}#sk-container-id-1 div.sk-estimator {font-family: monospace;background-color: #f0f8ff;border: 1px dotted black;border-radius: 0.25em;box-sizing: border-box;margin-bottom: 0.5em;}#sk-container-id-1 div.sk-estimator:hover {background-color: #d4ebff;}#sk-container-id-1 div.sk-parallel-item::after {content: \"\";width: 100%;border-bottom: 1px solid gray;flex-grow: 1;}#sk-container-id-1 div.sk-label:hover label.sk-toggleable__label {background-color: #d4ebff;}#sk-container-id-1 div.sk-serial::before {content: \"\";position: absolute;border-left: 1px solid gray;box-sizing: border-box;top: 0;bottom: 0;left: 50%;z-index: 0;}#sk-container-id-1 div.sk-serial {display: flex;flex-direction: column;align-items: center;background-color: white;padding-right: 0.2em;padding-left: 0.2em;position: relative;}#sk-container-id-1 div.sk-item {position: relative;z-index: 1;}#sk-container-id-1 div.sk-parallel {display: flex;align-items: stretch;justify-content: center;background-color: white;position: relative;}#sk-container-id-1 div.sk-item::before, #sk-container-id-1 div.sk-parallel-item::before {content: \"\";position: absolute;border-left: 1px solid gray;box-sizing: border-box;top: 0;bottom: 0;left: 50%;z-index: -1;}#sk-container-id-1 div.sk-parallel-item {display: flex;flex-direction: column;z-index: 1;position: relative;background-color: white;}#sk-container-id-1 div.sk-parallel-item:first-child::after {align-self: flex-end;width: 50%;}#sk-container-id-1 div.sk-parallel-item:last-child::after {align-self: flex-start;width: 50%;}#sk-container-id-1 div.sk-parallel-item:only-child::after {width: 0;}#sk-container-id-1 div.sk-dashed-wrapped {border: 1px dashed gray;margin: 0 0.4em 0.5em 0.4em;box-sizing: border-box;padding-bottom: 0.4em;background-color: white;}#sk-container-id-1 div.sk-label label {font-family: monospace;font-weight: bold;display: inline-block;line-height: 1.2em;}#sk-container-id-1 div.sk-label-container {text-align: center;}#sk-container-id-1 div.sk-container {/* jupyter's `normalize.less` sets `[hidden] { display: none; }` but bootstrap.min.css set `[hidden] { display: none !important; }` so we also need the `!important` here to be able to override the default hidden behavior on the sphinx rendered scikit-learn.org. See: https://github.com/scikit-learn/scikit-learn/issues/21755 */display: inline-block !important;position: relative;}#sk-container-id-1 div.sk-text-repr-fallback {display: none;}</style><div id=\"sk-container-id-1\" class=\"sk-top-container\"><div class=\"sk-text-repr-fallback\"><pre>RandomForestClassifier()</pre><b>In a Jupyter environment, please rerun this cell to show the HTML representation or trust the notebook. <br />On GitHub, the HTML representation is unable to render, please try loading this page with nbviewer.org.</b></div><div class=\"sk-container\" hidden><div class=\"sk-item\"><div class=\"sk-estimator sk-toggleable\"><input class=\"sk-toggleable__control sk-hidden--visually\" id=\"sk-estimator-id-1\" type=\"checkbox\" checked><label for=\"sk-estimator-id-1\" class=\"sk-toggleable__label sk-toggleable__label-arrow\">RandomForestClassifier</label><div class=\"sk-toggleable__content\"><pre>RandomForestClassifier()</pre></div></div></div></div></div>"
      ],
      "text/plain": [
       "RandomForestClassifier()"
      ]
     },
     "execution_count": 9,
     "metadata": {},
     "output_type": "execute_result"
    }
   ],
   "source": [
    "# selecting a random model \n",
    "model_rf = RandomForestClassifier()\n",
    "model_rf.fit(X_train, y_train)"
   ]
  },
  {
   "cell_type": "code",
   "execution_count": 10,
   "id": "d5f128d4",
   "metadata": {},
   "outputs": [
    {
     "name": "stdout",
     "output_type": "stream",
     "text": [
      " Random model training score is 1.0\n",
      " Random model validation data score is 0.9979489984275655\n",
      " Random model testing score is 0.9980858627290129\n"
     ]
    }
   ],
   "source": [
    "# accuracy scores on the three datasets\n",
    "print(f\" Random model training score is {model_rf.score(X_train,y_train)}\")\n",
    "print(f\" Random model validation data score is {model_rf.score(X_valid,y_valid)}\")\n",
    "print(f\" Random model testing score is {model_rf.score(X_test,y_test)}\")"
   ]
  },
  {
   "cell_type": "code",
   "execution_count": 11,
   "id": "b255d753",
   "metadata": {},
   "outputs": [
    {
     "name": "stdout",
     "output_type": "stream",
     "text": [
      "              precision    recall  f1-score   support\n",
      "\n",
      "           1       1.00      1.00      1.00      1344\n",
      "           2       1.00      1.00      1.00      1342\n",
      "           3       1.00      0.99      1.00      1303\n",
      "           4       1.00      1.00      1.00      1299\n",
      "           5       0.99      1.00      0.99      1295\n",
      "           6       1.00      1.00      1.00      1337\n",
      "           7       1.00      1.00      1.00      1396\n",
      "           8       1.00      1.00      1.00      1335\n",
      "           9       0.99      1.00      1.00      1308\n",
      "          10       1.00      1.00      1.00      1310\n",
      "          11       1.00      1.00      1.00      1358\n",
      "\n",
      "    accuracy                           1.00     14627\n",
      "   macro avg       1.00      1.00      1.00     14627\n",
      "weighted avg       1.00      1.00      1.00     14627\n",
      "\n"
     ]
    }
   ],
   "source": [
    "# classification report for validation dataset\n",
    "y_pred_va = model_rf.predict(X_valid)\n",
    "print(classification_report(y_pred_va,y_valid))"
   ]
  },
  {
   "cell_type": "markdown",
   "id": "d7261356",
   "metadata": {},
   "source": [
    "### Finding the best model using Hyperparameter validation"
   ]
  },
  {
   "cell_type": "code",
   "execution_count": 17,
   "id": "8017e883",
   "metadata": {},
   "outputs": [],
   "source": [
    "# Define a grid of hyperparameters to search over\n",
    "param_grid = {\n",
    "    'n_estimators': [50, 100],\n",
    "    'max_depth': [5, 10],\n",
    "    'min_samples_split': [2, 5],\n",
    "    'min_samples_leaf': [1, 2],\n",
    "}"
   ]
  },
  {
   "cell_type": "code",
   "execution_count": 18,
   "id": "e9c2b9fa",
   "metadata": {},
   "outputs": [
    {
     "data": {
      "text/plain": [
       "GridSearchCV(cv=5, estimator=RandomForestClassifier(),\n",
       "             param_grid={'max_depth': [5, 10], 'min_samples_leaf': [1, 2],\n",
       "                         'min_samples_split': [2, 5],\n",
       "                         'n_estimators': [50, 100]})"
      ]
     },
     "execution_count": 18,
     "metadata": {},
     "output_type": "execute_result"
    }
   ],
   "source": [
    "# Create a Grid Search CV object and fit it to the Validation data\n",
    "grid_search = GridSearchCV(model_rf, param_grid, cv=5)\n",
    "grid_search.fit(X_valid, y_valid)"
   ]
  },
  {
   "cell_type": "code",
   "execution_count": 19,
   "id": "01e3287b",
   "metadata": {},
   "outputs": [
    {
     "data": {
      "text/plain": [
       "{'max_depth': 10,\n",
       " 'min_samples_leaf': 1,\n",
       " 'min_samples_split': 5,\n",
       " 'n_estimators': 100}"
      ]
     },
     "execution_count": 19,
     "metadata": {},
     "output_type": "execute_result"
    }
   ],
   "source": [
    "grid_search.best_params_"
   ]
  },
  {
   "cell_type": "code",
   "execution_count": 7,
   "id": "c918199c",
   "metadata": {},
   "outputs": [],
   "source": [
    "# best classification tree for the above data\n",
    "best_rf = RandomForestClassifier(max_depth = 10, min_samples_leaf= 1, min_samples_split= 5, n_estimators= 100)\n",
    "best_rf.fit(X_train,y_train)\n",
    "filename = 'RF_class.sav'\n",
    "pickle.dump(best_rf, open(filename, 'wb'))"
   ]
  },
  {
   "cell_type": "markdown",
   "id": "e7714b5d",
   "metadata": {},
   "source": [
    "### Accuracy of the models"
   ]
  },
  {
   "cell_type": "code",
   "execution_count": 21,
   "id": "b40dc916",
   "metadata": {},
   "outputs": [
    {
     "name": "stdout",
     "output_type": "stream",
     "text": [
      " The training data accuracy for the best model is 0.9998632665618377\n",
      " The validation data accuracy for the best model is 0.9993163328091885\n",
      " The testing data accuracy for the best model is 0.9991112934098988\n"
     ]
    }
   ],
   "source": [
    "# Best model training \n",
    "best_rf.fit(X_train,y_train)\n",
    "# Accuracy scores of best tree on different datasets\n",
    "y_train_pred = best_rf.predict(X_train)\n",
    "print(f\" The training data accuracy for the best model is {accuracy_score(y_train,y_train_pred)}\")\n",
    "y_valid_pred = best_rf.predict(X_valid) \n",
    "print(f\" The validation data accuracy for the best model is {accuracy_score(y_valid,y_valid_pred)}\")\n",
    "y_test_pred = best_rf.predict(X_test)\n",
    "print(f\" The testing data accuracy for the best model is {accuracy_score(y_test,y_test_pred)}\")      "
   ]
  },
  {
   "cell_type": "markdown",
   "id": "31c569a7",
   "metadata": {},
   "source": [
    "### Confusion matrices for Training data, Validation data and Testing data"
   ]
  },
  {
   "cell_type": "code",
   "execution_count": 22,
   "id": "4035a1b6",
   "metadata": {},
   "outputs": [
    {
     "name": "stdout",
     "output_type": "stream",
     "text": [
      "[[2643    0    0    0    0    0    0    0    0    0    0]\n",
      " [   0 2623    0    0    0    0    0    0    0    0    0]\n",
      " [   0    0 2685    0    0    0    0    0    0    0    0]\n",
      " [   0    0    0 2675    4    0    0    0    0    0    0]\n",
      " [   0    0    0    0 2716    0    0    0    0    0    0]\n",
      " [   0    0    0    0    0 2626    0    0    0    0    0]\n",
      " [   0    0    0    0    0    0 2609    0    0    0    0]\n",
      " [   0    0    0    0    0    0    0 2665    0    0    0]\n",
      " [   0    0    0    0    0    0    0    0 2693    0    0]\n",
      " [   0    0    0    0    0    0    0    0    0 2663    0]\n",
      " [   0    0    0    0    0    0    0    0    0    0 2652]]\n"
     ]
    }
   ],
   "source": [
    "### Training Data\n",
    "print(confusion_matrix(y_train,y_train_pred))"
   ]
  },
  {
   "cell_type": "code",
   "execution_count": 23,
   "id": "6672a887",
   "metadata": {},
   "outputs": [
    {
     "name": "stdout",
     "output_type": "stream",
     "text": [
      "[[1345    0    0    0    0    0    0    0    0    0    0]\n",
      " [   0 1338    0    0    0    0    0    0    0    0    1]\n",
      " [   0    0 1293    0    0    0    0    0    0    0    0]\n",
      " [   0    0    0 1294    5    0    0    0    0    0    0]\n",
      " [   0    0    0    0 1305    0    0    0    0    0    0]\n",
      " [   0    0    0    0    0 1336    0    0    0    0    1]\n",
      " [   0    0    0    0    0    0 1396    0    0    0    0]\n",
      " [   0    0    0    0    0    0    0 1335    0    0    0]\n",
      " [   0    0    0    0    0    0    0    0 1312    2    0]\n",
      " [   0    0    0    0    0    0    0    0    1 1307    0]\n",
      " [   0    0    0    0    0    0    0    0    0    0 1356]]\n"
     ]
    }
   ],
   "source": [
    "# confusion matrix for validation data\n",
    "print(confusion_matrix(y_valid,y_valid_pred))"
   ]
  },
  {
   "cell_type": "code",
   "execution_count": 24,
   "id": "61388012",
   "metadata": {},
   "outputs": [
    {
     "name": "stdout",
     "output_type": "stream",
     "text": [
      "[[1331    0    0    0    0    0    0    0    0    0    0]\n",
      " [   1 1354    1    0    0    0    0    0    0    0    1]\n",
      " [   0    0 1341    0    0    0    0    0    0    0    0]\n",
      " [   0    0    0 1339    2    0    0    0    0    0    0]\n",
      " [   0    0    0    1 1297    0    0    0    0    0    0]\n",
      " [   0    0    0    0    0 1356    0    0    0    0    0]\n",
      " [   0    0    0    0    1    0 1313    0    0    0    0]\n",
      " [   0    1    0    0    0    0    0 1318    0    0    0]\n",
      " [   0    0    0    0    0    0    0    2 1309    1    0]\n",
      " [   0    0    0    0    0    0    0    0    2 1346    0]\n",
      " [   0    0    0    0    0    0    0    0    0    0 1311]]\n"
     ]
    }
   ],
   "source": [
    "# Confusion matrix for testing data\n",
    "print(confusion_matrix(y_test,y_test_pred))"
   ]
  },
  {
   "cell_type": "markdown",
   "id": "bbc796e3",
   "metadata": {},
   "source": [
    "### Classification Report for all the models"
   ]
  },
  {
   "cell_type": "code",
   "execution_count": 25,
   "id": "8d225acd",
   "metadata": {},
   "outputs": [
    {
     "name": "stdout",
     "output_type": "stream",
     "text": [
      "              precision    recall  f1-score   support\n",
      "\n",
      "           1       1.00      1.00      1.00      2643\n",
      "           2       1.00      1.00      1.00      2623\n",
      "           3       1.00      1.00      1.00      2685\n",
      "           4       1.00      1.00      1.00      2679\n",
      "           5       1.00      1.00      1.00      2716\n",
      "           6       1.00      1.00      1.00      2626\n",
      "           7       1.00      1.00      1.00      2609\n",
      "           8       1.00      1.00      1.00      2665\n",
      "           9       1.00      1.00      1.00      2693\n",
      "          10       1.00      1.00      1.00      2663\n",
      "          11       1.00      1.00      1.00      2652\n",
      "\n",
      "    accuracy                           1.00     29254\n",
      "   macro avg       1.00      1.00      1.00     29254\n",
      "weighted avg       1.00      1.00      1.00     29254\n",
      "\n"
     ]
    }
   ],
   "source": [
    "#Classification report for the training data\n",
    "print(classification_report(y_train,y_train_pred))"
   ]
  },
  {
   "cell_type": "code",
   "execution_count": 26,
   "id": "c0b3903c",
   "metadata": {},
   "outputs": [
    {
     "name": "stdout",
     "output_type": "stream",
     "text": [
      "              precision    recall  f1-score   support\n",
      "\n",
      "           1       1.00      1.00      1.00      1331\n",
      "           2       1.00      1.00      1.00      1357\n",
      "           3       1.00      1.00      1.00      1341\n",
      "           4       1.00      1.00      1.00      1341\n",
      "           5       1.00      1.00      1.00      1298\n",
      "           6       1.00      1.00      1.00      1356\n",
      "           7       1.00      1.00      1.00      1314\n",
      "           8       1.00      1.00      1.00      1319\n",
      "           9       1.00      1.00      1.00      1312\n",
      "          10       1.00      1.00      1.00      1348\n",
      "          11       1.00      1.00      1.00      1311\n",
      "\n",
      "    accuracy                           1.00     14628\n",
      "   macro avg       1.00      1.00      1.00     14628\n",
      "weighted avg       1.00      1.00      1.00     14628\n",
      "\n"
     ]
    }
   ],
   "source": [
    "# Classification report for the testing data\n",
    "print(classification_report(y_test,y_test_pred))"
   ]
  },
  {
   "cell_type": "code",
   "execution_count": null,
   "id": "92693eb6",
   "metadata": {},
   "outputs": [],
   "source": [
    "https://drive.google.com/file/d/1KPfSSlcXfQyrPiFMQRSsTcFMYojc40Db/view?usp=sharing"
   ]
  },
  {
   "cell_type": "code",
   "execution_count": 27,
   "id": "ea446961",
   "metadata": {},
   "outputs": [
    {
     "name": "stdout",
     "output_type": "stream",
     "text": [
      "              precision    recall  f1-score   support\n",
      "\n",
      "           1       1.00      1.00      1.00      1345\n",
      "           2       1.00      1.00      1.00      1339\n",
      "           3       1.00      1.00      1.00      1293\n",
      "           4       1.00      1.00      1.00      1299\n",
      "           5       1.00      1.00      1.00      1305\n",
      "           6       1.00      1.00      1.00      1337\n",
      "           7       1.00      1.00      1.00      1396\n",
      "           8       1.00      1.00      1.00      1335\n",
      "           9       1.00      1.00      1.00      1314\n",
      "          10       1.00      1.00      1.00      1308\n",
      "          11       1.00      1.00      1.00      1356\n",
      "\n",
      "    accuracy                           1.00     14627\n",
      "   macro avg       1.00      1.00      1.00     14627\n",
      "weighted avg       1.00      1.00      1.00     14627\n",
      "\n"
     ]
    }
   ],
   "source": [
    "# classification report for the validation data\n",
    "print(classification_report(y_valid,y_valid_pred))"
   ]
  },
  {
   "cell_type": "markdown",
   "id": "6930fd38",
   "metadata": {},
   "source": [
    "### ROC_AUC score of the models "
   ]
  },
  {
   "cell_type": "code",
   "execution_count": 28,
   "id": "be39193d",
   "metadata": {},
   "outputs": [
    {
     "name": "stdout",
     "output_type": "stream",
     "text": [
      " The roc_auc score for the training data is 1.0\n",
      " The roc_auc score for the validation data is 0.9999998046868175\n",
      " The roc_auc score for the testing data is 0.9999935118697014\n"
     ]
    }
   ],
   "source": [
    "# roc auc score for training data\n",
    "y_train_prob = best_rf.predict_proba(X_train)\n",
    "print(f\" The roc_auc score for the training data is {roc_auc_score(y_train,y_train_prob,average='weighted',multi_class='ovr')}\")\n",
    "# roc auc score for the validation data\n",
    "y_valid_prob = best_rf.predict_proba(X_valid)\n",
    "print(f\" The roc_auc score for the validation data is {roc_auc_score(y_valid,y_valid_prob,average='weighted',multi_class='ovr')}\")\n",
    "# roc auc score for the testing data\n",
    "y_test_prob = best_rf.predict_proba(X_test)\n",
    "print(f\" The roc_auc score for the testing data is {roc_auc_score(y_test,y_test_prob,average='weighted',multi_class='ovr')}\")"
   ]
  },
  {
   "cell_type": "markdown",
   "id": "e34d9eab",
   "metadata": {},
   "source": [
    "### Recall score of the models"
   ]
  },
  {
   "cell_type": "code",
   "execution_count": 29,
   "id": "fd40c51a",
   "metadata": {},
   "outputs": [
    {
     "name": "stdout",
     "output_type": "stream",
     "text": [
      " The recall score for the training data is 0.9998642641419796\n",
      " The recall score for the validation data is 0.9993063200128557\n",
      " The recall score for the testing data is 0.9991125409659506\n"
     ]
    }
   ],
   "source": [
    "# recall score for training data\n",
    "print(f\" The recall score for the training data is {recall_score(y_train,y_train_pred,average= 'macro')}\")\n",
    "# recall score for validation data\n",
    "print(f\" The recall score for the validation data is {recall_score(y_valid,y_valid_pred,average= 'macro')}\")\n",
    "# recall score for test data\n",
    "print(f\" The recall score for the testing data is {recall_score(y_test,y_test_pred,average= 'macro')}\")"
   ]
  },
  {
   "cell_type": "markdown",
   "id": "028cf65b",
   "metadata": {},
   "source": [
    "### F1 score of the models"
   ]
  },
  {
   "cell_type": "code",
   "execution_count": 30,
   "id": "adcfc1b5",
   "metadata": {},
   "outputs": [
    {
     "name": "stdout",
     "output_type": "stream",
     "text": [
      " The f-1 score for the training data is 0.9998632657913588\n",
      " The f-1 score for the validation data is 0.9993163550087673\n",
      " The f-1 score for the testing data is 0.999111220832485\n"
     ]
    }
   ],
   "source": [
    "# F-1 score for training data\n",
    "print(f\" The f-1 score for the training data is {f1_score(y_train,y_train_pred,average= 'weighted')}\")\n",
    "# F-1 score for validation data\n",
    "print(f\" The f-1 score for the validation data is {f1_score(y_valid,y_valid_pred,average= 'weighted')}\")\n",
    "# F-1 score for test data\n",
    "print(f\" The f-1 score for the testing data is {f1_score(y_test,y_test_pred,average= 'weighted')}\")"
   ]
  },
  {
   "cell_type": "code",
   "execution_count": null,
   "id": "eae2ada7",
   "metadata": {},
   "outputs": [],
   "source": []
  }
 ],
 "metadata": {
  "kernelspec": {
   "display_name": "Python 3 (ipykernel)",
   "language": "python",
   "name": "python3"
  },
  "language_info": {
   "codemirror_mode": {
    "name": "ipython",
    "version": 3
   },
   "file_extension": ".py",
   "mimetype": "text/x-python",
   "name": "python",
   "nbconvert_exporter": "python",
   "pygments_lexer": "ipython3",
   "version": "3.10.10"
  }
 },
 "nbformat": 4,
 "nbformat_minor": 5
}
